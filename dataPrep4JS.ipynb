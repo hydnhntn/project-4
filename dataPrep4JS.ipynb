{
  "nbformat": 4,
  "nbformat_minor": 0,
  "metadata": {
    "colab": {
      "name": "dataPrep4JS.ipynb",
      "provenance": []
    },
    "kernelspec": {
      "name": "python3",
      "display_name": "Python 3"
    },
    "language_info": {
      "name": "python"
    }
  },
  "cells": [
    {
      "cell_type": "code",
      "execution_count": 1,
      "metadata": {
        "id": "ZzSBc1CnRNbh"
      },
      "outputs": [],
      "source": [
        "import pandas as pd"
      ]
    },
    {
      "cell_type": "code",
      "source": [
        "csv = pd.read_csv(\"final_v4.csv\")\n",
        "csv.head()"
      ],
      "metadata": {
        "colab": {
          "base_uri": "https://localhost:8080/",
          "height": 206
        },
        "id": "X4pP3vohRVLv",
        "outputId": "3d57bf2d-f71d-45f5-86aa-e26e6c145d31"
      },
      "execution_count": 3,
      "outputs": [
        {
          "output_type": "execute_result",
          "data": {
            "text/plain": [
              "              city   longitude   latitude  median_temp_f  median_pres_psi  \\\n",
              "0          Abilene  -99.747591  32.446450      65.046918        14.743271   \n",
              "1        Alabaster  -86.816377  33.244281      63.607213        14.769267   \n",
              "2           Albany  -73.754968  42.651167      67.003754        14.779551   \n",
              "3  Apache Junction -111.549577  33.415048      71.926115        14.701583   \n",
              "4       Bar Harbor  -68.204336  44.387638      45.925066        14.735009   \n",
              "\n",
              "   median_humid_%  median_wind_mph  max_prec_in  median_cloud_%  \\\n",
              "0       58.050546        10.106778     0.118078        3.211749   \n",
              "1       76.468579         4.357627     0.132503       21.132514   \n",
              "2       74.076503         5.719080     0.129340       17.933060   \n",
              "3       32.986339         5.421180     0.064767        8.015027   \n",
              "4       80.431694         7.862688     0.086001       39.907104   \n",
              "\n",
              "   latitude_predict  \n",
              "0         32.082276  \n",
              "1         35.502910  \n",
              "2         37.538263  \n",
              "3         33.615768  \n",
              "4         42.024881  "
            ],
            "text/html": [
              "\n",
              "  <div id=\"df-ef000b5c-bd7d-41ce-a52c-44f2a4053bcf\">\n",
              "    <div class=\"colab-df-container\">\n",
              "      <div>\n",
              "<style scoped>\n",
              "    .dataframe tbody tr th:only-of-type {\n",
              "        vertical-align: middle;\n",
              "    }\n",
              "\n",
              "    .dataframe tbody tr th {\n",
              "        vertical-align: top;\n",
              "    }\n",
              "\n",
              "    .dataframe thead th {\n",
              "        text-align: right;\n",
              "    }\n",
              "</style>\n",
              "<table border=\"1\" class=\"dataframe\">\n",
              "  <thead>\n",
              "    <tr style=\"text-align: right;\">\n",
              "      <th></th>\n",
              "      <th>city</th>\n",
              "      <th>longitude</th>\n",
              "      <th>latitude</th>\n",
              "      <th>median_temp_f</th>\n",
              "      <th>median_pres_psi</th>\n",
              "      <th>median_humid_%</th>\n",
              "      <th>median_wind_mph</th>\n",
              "      <th>max_prec_in</th>\n",
              "      <th>median_cloud_%</th>\n",
              "      <th>latitude_predict</th>\n",
              "    </tr>\n",
              "  </thead>\n",
              "  <tbody>\n",
              "    <tr>\n",
              "      <th>0</th>\n",
              "      <td>Abilene</td>\n",
              "      <td>-99.747591</td>\n",
              "      <td>32.446450</td>\n",
              "      <td>65.046918</td>\n",
              "      <td>14.743271</td>\n",
              "      <td>58.050546</td>\n",
              "      <td>10.106778</td>\n",
              "      <td>0.118078</td>\n",
              "      <td>3.211749</td>\n",
              "      <td>32.082276</td>\n",
              "    </tr>\n",
              "    <tr>\n",
              "      <th>1</th>\n",
              "      <td>Alabaster</td>\n",
              "      <td>-86.816377</td>\n",
              "      <td>33.244281</td>\n",
              "      <td>63.607213</td>\n",
              "      <td>14.769267</td>\n",
              "      <td>76.468579</td>\n",
              "      <td>4.357627</td>\n",
              "      <td>0.132503</td>\n",
              "      <td>21.132514</td>\n",
              "      <td>35.502910</td>\n",
              "    </tr>\n",
              "    <tr>\n",
              "      <th>2</th>\n",
              "      <td>Albany</td>\n",
              "      <td>-73.754968</td>\n",
              "      <td>42.651167</td>\n",
              "      <td>67.003754</td>\n",
              "      <td>14.779551</td>\n",
              "      <td>74.076503</td>\n",
              "      <td>5.719080</td>\n",
              "      <td>0.129340</td>\n",
              "      <td>17.933060</td>\n",
              "      <td>37.538263</td>\n",
              "    </tr>\n",
              "    <tr>\n",
              "      <th>3</th>\n",
              "      <td>Apache Junction</td>\n",
              "      <td>-111.549577</td>\n",
              "      <td>33.415048</td>\n",
              "      <td>71.926115</td>\n",
              "      <td>14.701583</td>\n",
              "      <td>32.986339</td>\n",
              "      <td>5.421180</td>\n",
              "      <td>0.064767</td>\n",
              "      <td>8.015027</td>\n",
              "      <td>33.615768</td>\n",
              "    </tr>\n",
              "    <tr>\n",
              "      <th>4</th>\n",
              "      <td>Bar Harbor</td>\n",
              "      <td>-68.204336</td>\n",
              "      <td>44.387638</td>\n",
              "      <td>45.925066</td>\n",
              "      <td>14.735009</td>\n",
              "      <td>80.431694</td>\n",
              "      <td>7.862688</td>\n",
              "      <td>0.086001</td>\n",
              "      <td>39.907104</td>\n",
              "      <td>42.024881</td>\n",
              "    </tr>\n",
              "  </tbody>\n",
              "</table>\n",
              "</div>\n",
              "      <button class=\"colab-df-convert\" onclick=\"convertToInteractive('df-ef000b5c-bd7d-41ce-a52c-44f2a4053bcf')\"\n",
              "              title=\"Convert this dataframe to an interactive table.\"\n",
              "              style=\"display:none;\">\n",
              "        \n",
              "  <svg xmlns=\"http://www.w3.org/2000/svg\" height=\"24px\"viewBox=\"0 0 24 24\"\n",
              "       width=\"24px\">\n",
              "    <path d=\"M0 0h24v24H0V0z\" fill=\"none\"/>\n",
              "    <path d=\"M18.56 5.44l.94 2.06.94-2.06 2.06-.94-2.06-.94-.94-2.06-.94 2.06-2.06.94zm-11 1L8.5 8.5l.94-2.06 2.06-.94-2.06-.94L8.5 2.5l-.94 2.06-2.06.94zm10 10l.94 2.06.94-2.06 2.06-.94-2.06-.94-.94-2.06-.94 2.06-2.06.94z\"/><path d=\"M17.41 7.96l-1.37-1.37c-.4-.4-.92-.59-1.43-.59-.52 0-1.04.2-1.43.59L10.3 9.45l-7.72 7.72c-.78.78-.78 2.05 0 2.83L4 21.41c.39.39.9.59 1.41.59.51 0 1.02-.2 1.41-.59l7.78-7.78 2.81-2.81c.8-.78.8-2.07 0-2.86zM5.41 20L4 18.59l7.72-7.72 1.47 1.35L5.41 20z\"/>\n",
              "  </svg>\n",
              "      </button>\n",
              "      \n",
              "  <style>\n",
              "    .colab-df-container {\n",
              "      display:flex;\n",
              "      flex-wrap:wrap;\n",
              "      gap: 12px;\n",
              "    }\n",
              "\n",
              "    .colab-df-convert {\n",
              "      background-color: #E8F0FE;\n",
              "      border: none;\n",
              "      border-radius: 50%;\n",
              "      cursor: pointer;\n",
              "      display: none;\n",
              "      fill: #1967D2;\n",
              "      height: 32px;\n",
              "      padding: 0 0 0 0;\n",
              "      width: 32px;\n",
              "    }\n",
              "\n",
              "    .colab-df-convert:hover {\n",
              "      background-color: #E2EBFA;\n",
              "      box-shadow: 0px 1px 2px rgba(60, 64, 67, 0.3), 0px 1px 3px 1px rgba(60, 64, 67, 0.15);\n",
              "      fill: #174EA6;\n",
              "    }\n",
              "\n",
              "    [theme=dark] .colab-df-convert {\n",
              "      background-color: #3B4455;\n",
              "      fill: #D2E3FC;\n",
              "    }\n",
              "\n",
              "    [theme=dark] .colab-df-convert:hover {\n",
              "      background-color: #434B5C;\n",
              "      box-shadow: 0px 1px 3px 1px rgba(0, 0, 0, 0.15);\n",
              "      filter: drop-shadow(0px 1px 2px rgba(0, 0, 0, 0.3));\n",
              "      fill: #FFFFFF;\n",
              "    }\n",
              "  </style>\n",
              "\n",
              "      <script>\n",
              "        const buttonEl =\n",
              "          document.querySelector('#df-ef000b5c-bd7d-41ce-a52c-44f2a4053bcf button.colab-df-convert');\n",
              "        buttonEl.style.display =\n",
              "          google.colab.kernel.accessAllowed ? 'block' : 'none';\n",
              "\n",
              "        async function convertToInteractive(key) {\n",
              "          const element = document.querySelector('#df-ef000b5c-bd7d-41ce-a52c-44f2a4053bcf');\n",
              "          const dataTable =\n",
              "            await google.colab.kernel.invokeFunction('convertToInteractive',\n",
              "                                                     [key], {});\n",
              "          if (!dataTable) return;\n",
              "\n",
              "          const docLinkHtml = 'Like what you see? Visit the ' +\n",
              "            '<a target=\"_blank\" href=https://colab.research.google.com/notebooks/data_table.ipynb>data table notebook</a>'\n",
              "            + ' to learn more about interactive tables.';\n",
              "          element.innerHTML = '';\n",
              "          dataTable['output_type'] = 'display_data';\n",
              "          await google.colab.output.renderOutput(dataTable, element);\n",
              "          const docLink = document.createElement('div');\n",
              "          docLink.innerHTML = docLinkHtml;\n",
              "          element.appendChild(docLink);\n",
              "        }\n",
              "      </script>\n",
              "    </div>\n",
              "  </div>\n",
              "  "
            ]
          },
          "metadata": {},
          "execution_count": 3
        }
      ]
    },
    {
      "cell_type": "code",
      "source": [
        "cities_origin = []\n",
        "for index, row in csv.iterrows():\n",
        "  city_dict = {\n",
        "      'title': row['city'],\n",
        "      'latitude': row['latitude'],\n",
        "      'longitude': row['longitude']\n",
        "  }\n",
        "  cities_origin.append(city_dict)\n",
        "print(cities_origin)"
      ],
      "metadata": {
        "colab": {
          "base_uri": "https://localhost:8080/"
        },
        "id": "dTCOhdpeRp3Q",
        "outputId": "88c63277-4084-48b6-96e3-98a4dee745e2"
      },
      "execution_count": 8,
      "outputs": [
        {
          "output_type": "stream",
          "name": "stdout",
          "text": [
            "[{'title': 'Abilene', 'latitude': 32.44645, 'longitude': -99.7475905}, {'title': 'Alabaster', 'latitude': 33.2442813, 'longitude': -86.8163773}, {'title': 'Albany', 'latitude': 42.6511674, 'longitude': -73.754968}, {'title': 'Apache Junction', 'latitude': 33.4150485, 'longitude': -111.549577}, {'title': 'Bar Harbor', 'latitude': 44.3876378, 'longitude': -68.2043361}, {'title': 'Barberton', 'latitude': 41.012833, 'longitude': -81.6051221}, {'title': 'Batesville', 'latitude': 35.769799, 'longitude': -91.6409722}, {'title': 'Beckley', 'latitude': 37.7781702, 'longitude': -81.1881557}, {'title': 'Bend', 'latitude': 44.0581728, 'longitude': -121.3153096}, {'title': 'Bloomingdale', 'latitude': 41.9575285, 'longitude': -88.0809036}, {'title': 'Bloomsburg', 'latitude': 41.0044958, 'longitude': -76.4537302}, {'title': 'Boone', 'latitude': 42.0596994, 'longitude': -93.8802202}, {'title': 'Brookings', 'latitude': 44.311461, 'longitude': -96.79844}, {'title': 'Buchanan', 'latitude': 41.2620383, 'longitude': -73.9381943}, {'title': 'Camp Verde', 'latitude': 34.5636358, 'longitude': -111.854317}, {'title': 'Campbellsville', 'latitude': 37.3433974, 'longitude': -85.3419069}, {'title': 'Charlestown', 'latitude': 43.2387, 'longitude': -72.424622}, {'title': 'Charlottesville', 'latitude': 38.029306, 'longitude': -78.4766781}, {'title': 'Cheyenne', 'latitude': 41.139981, 'longitude': -104.820246}, {'title': 'Clinton', 'latitude': 41.8444735, 'longitude': -90.1887379}, {'title': 'Columbia', 'latitude': 34.0007493, 'longitude': -81.0343313}, {'title': 'Corsicana', 'latitude': 32.091299, 'longitude': -96.4646821}, {'title': 'Cortez', 'latitude': 37.3494528, 'longitude': -108.584073}, {'title': 'Culpeper', 'latitude': 38.4733823, 'longitude': -77.9961275}, {'title': 'Daytona Beach', 'latitude': 29.2108147, 'longitude': -81.0228331}, {'title': 'Decatur', 'latitude': 39.8454163, 'longitude': -88.9524151}, {'title': 'Delano', 'latitude': 35.7688425, 'longitude': -119.2470536}, {'title': 'Duluth', 'latitude': 46.7729322, 'longitude': -92.1251218}, {'title': 'East Wenatchee Bench', 'latitude': 47.4256825, 'longitude': -120.2811818}, {'title': 'Ellensburg', 'latitude': 46.9970635, 'longitude': -120.5451223}, {'title': 'Enid', 'latitude': 36.3967623, 'longitude': -97.8791341}, {'title': 'Ephrata', 'latitude': 40.1799111, 'longitude': -76.1789242}, {'title': 'Fergus Falls', 'latitude': 46.283015, 'longitude': -96.077558}, {'title': 'Fremont', 'latitude': 37.5482697, 'longitude': -121.988571}, {'title': 'Gainesville', 'latitude': 29.6519684, 'longitude': -82.3249846}, {'title': 'Garden City', 'latitude': 37.9716898, 'longitude': -100.8726618}, {'title': 'Gillette', 'latitude': 44.290635, 'longitude': -105.501876}, {'title': 'Glens Falls', 'latitude': 43.309941, 'longitude': -73.644447}, {'title': 'Golden', 'latitude': 39.7437618, 'longitude': -105.2148081}, {'title': 'Great Bend', 'latitude': 38.3625063, 'longitude': -98.7804087}, {'title': 'Green River', 'latitude': 41.5290933, 'longitude': -109.466473}, {'title': 'Hilton Head Island', 'latitude': 32.1618488, 'longitude': -80.7512616}, {'title': 'Houston', 'latitude': 29.7589382, 'longitude': -95.3676974}, {'title': 'Kennewick', 'latitude': 46.2087066, 'longitude': -119.1199192}, {'title': 'Kenosha', 'latitude': 42.5846773, 'longitude': -87.8212263}, {'title': 'Kingman', 'latitude': 35.189443, 'longitude': -114.0530065}, {'title': 'Lake Shore', 'latitude': 46.4855226, 'longitude': -94.3605573}, {'title': 'Lansing', 'latitude': 42.7337712, 'longitude': -84.5553805}, {'title': 'Laurel', 'latitude': 31.706023, 'longitude': -89.13706958}, {'title': 'Lawrence', 'latitude': 38.9719384, 'longitude': -95.2359496}, {'title': 'Lexington', 'latitude': 38.0464066, 'longitude': -84.4970393}, {'title': 'Mandan', 'latitude': 46.826415, 'longitude': -100.889704}, {'title': 'Mauldin', 'latitude': 34.77873, 'longitude': -82.310119}, {'title': 'Miramar', 'latitude': 25.9873137, 'longitude': -80.2322706}, {'title': 'Moberly', 'latitude': 39.4201137, 'longitude': -92.4364298}, {'title': 'Montgomery', 'latitude': 32.3669656, 'longitude': -86.3006485}, {'title': 'Mustang', 'latitude': 35.384227, 'longitude': -97.7244813}, {'title': 'Myrtle Beach', 'latitude': 33.6956461, 'longitude': -78.8900409}, {'title': 'New Albany', 'latitude': 38.2856247, 'longitude': -85.8241312}, {'title': 'New Iberia', 'latitude': 30.0035365, 'longitude': -91.8187285}, {'title': 'Norfolk', 'latitude': 36.8968052, 'longitude': -76.2602336}, {'title': 'North Shore', 'latitude': 40.4474127, 'longitude': -80.0078641}, {'title': 'Ottumwa', 'latitude': 41.0200145, 'longitude': -92.4112963}, {'title': 'Pacific Grove', 'latitude': 36.6211149, 'longitude': -121.9177944}, {'title': 'Pahrump', 'latitude': 36.2083012, 'longitude': -115.9839128}, {'title': 'Paragould', 'latitude': 36.0584021, 'longitude': -90.4973286}, {'title': 'Payson', 'latitude': 39.8169907, 'longitude': -91.2423657}, {'title': 'Portland', 'latitude': 45.5202471, 'longitude': -122.6741949}, {'title': 'Progress', 'latitude': 39.0632267, 'longitude': -121.8010799}, {'title': 'Quincy', 'latitude': 42.2509914, 'longitude': -71.0037374}, {'title': 'Richland', 'latitude': 46.2804298, 'longitude': -119.275205}, {'title': 'Richmond', 'latitude': 37.5385087, 'longitude': -77.43428}, {'title': 'Rockland', 'latitude': 44.1036988, 'longitude': -69.1075562}, {'title': 'Salinas', 'latitude': 36.6744117, 'longitude': -121.6550372}, {'title': 'San Antonio', 'latitude': 29.4246002, 'longitude': -98.4951405}, {'title': 'Santa Rosa', 'latitude': 38.4404925, 'longitude': -122.7141049}, {'title': 'Sebastian', 'latitude': 27.816415, 'longitude': -80.4706078}, {'title': 'Selma', 'latitude': 32.4078632, 'longitude': -87.0207473}, {'title': 'Sidney', 'latitude': 47.716735, 'longitude': -104.155973}, {'title': 'Silver City', 'latitude': 41.1133311, 'longitude': -95.637226}, {'title': 'Soledad', 'latitude': 36.426921, 'longitude': -121.3271861}, {'title': 'Southbridge', 'latitude': 42.0641046, 'longitude': -72.0304472}, {'title': 'Spring Hill', 'latitude': 41.4117626, 'longitude': -93.6479872}, {'title': 'St. Anthony', 'latitude': 45.0283001, 'longitude': -93.2187368}, {'title': 'Statesboro', 'latitude': 32.4490141, 'longitude': -81.7832912}, {'title': 'Sterling', 'latitude': 41.788642, 'longitude': -89.6962194}, {'title': 'Tehachapi', 'latitude': 35.1321878, 'longitude': -118.4489739}, {'title': 'Tucumcari', 'latitude': 35.1719425, 'longitude': -103.7250405}, {'title': 'Ukiah', 'latitude': 39.1501662, 'longitude': -123.2077861}, {'title': 'Uvalde', 'latitude': 29.2096836, 'longitude': -99.7861679}, {'title': 'Vicksburg', 'latitude': 32.3528055, 'longitude': -90.8777342}, {'title': 'Victoria', 'latitude': 48.4283182, 'longitude': -123.3649533}, {'title': 'Watertown', 'latitude': 42.3709299, 'longitude': -71.1828321}, {'title': 'Wharton', 'latitude': 29.3124797, 'longitude': -96.0982384}, {'title': 'Winnemucca', 'latitude': 40.9724275, 'longitude': -117.7348184}, {'title': 'Yankton', 'latitude': 42.8712938, 'longitude': -97.3967011}, {'title': 'Yonkers', 'latitude': 40.9312099, 'longitude': -73.8987469}]\n"
          ]
        }
      ]
    },
    {
      "cell_type": "code",
      "source": [
        "cities_predict =[]\n",
        "for index, row in csv.iterrows():\n",
        "  city_dict = {\n",
        "      'title': row['city'],\n",
        "      'latitude': row['latitude_predict'],\n",
        "      'longitude': row['longitude']\n",
        "  }\n",
        "  cities_predict.append(city_dict)\n",
        "print(cities_predict)"
      ],
      "metadata": {
        "colab": {
          "base_uri": "https://localhost:8080/"
        },
        "id": "X-Dx1bzbR2zJ",
        "outputId": "7ab4ba4d-aca6-414a-cc1d-3b147644cc09"
      },
      "execution_count": 9,
      "outputs": [
        {
          "output_type": "stream",
          "name": "stdout",
          "text": [
            "[{'title': 'Abilene', 'latitude': 32.082276264000015, 'longitude': -99.7475905}, {'title': 'Alabaster', 'latitude': 35.50291025900001, 'longitude': -86.8163773}, {'title': 'Albany', 'latitude': 37.538263360000016, 'longitude': -73.754968}, {'title': 'Apache Junction', 'latitude': 33.61576774299999, 'longitude': -111.549577}, {'title': 'Bar Harbor', 'latitude': 42.02488097399997, 'longitude': -68.2043361}, {'title': 'Barberton', 'latitude': 41.62625677000001, 'longitude': -81.6051221}, {'title': 'Batesville', 'latitude': 38.69368476700002, 'longitude': -91.6409722}, {'title': 'Beckley', 'latitude': 40.31037931200001, 'longitude': -81.1881557}, {'title': 'Bend', 'latitude': 40.63954688100001, 'longitude': -121.3153096}, {'title': 'Bloomingdale', 'latitude': 29.986015594000012, 'longitude': -88.0809036}, {'title': 'Bloomsburg', 'latitude': 40.119846325, 'longitude': -76.4537302}, {'title': 'Boone', 'latitude': 37.138641608, 'longitude': -93.8802202}, {'title': 'Brookings', 'latitude': 44.05103673600004, 'longitude': -96.79844}, {'title': 'Buchanan', 'latitude': 41.989020658999976, 'longitude': -73.9381943}, {'title': 'Camp Verde', 'latitude': 35.319391297, 'longitude': -111.854317}, {'title': 'Campbellsville', 'latitude': 37.71734040100003, 'longitude': -85.3419069}, {'title': 'Charlestown', 'latitude': 41.46728936550001, 'longitude': -72.424622}, {'title': 'Charlottesville', 'latitude': 39.077700662500014, 'longitude': -78.4766781}, {'title': 'Cheyenne', 'latitude': 40.64306393300002, 'longitude': -104.820246}, {'title': 'Clinton', 'latitude': 38.746758558, 'longitude': -90.1887379}, {'title': 'Columbia', 'latitude': 41.139411585, 'longitude': -81.0343313}, {'title': 'Corsicana', 'latitude': 31.665963592, 'longitude': -96.4646821}, {'title': 'Cortez', 'latitude': 38.784402395, 'longitude': -108.584073}, {'title': 'Culpeper', 'latitude': 38.06740306700003, 'longitude': -77.9961275}, {'title': 'Daytona Beach', 'latitude': 32.14569983199999, 'longitude': -81.0228331}, {'title': 'Decatur', 'latitude': 38.02197846200001, 'longitude': -88.9524151}, {'title': 'Delano', 'latitude': 35.452968227000014, 'longitude': -119.2470536}, {'title': 'Duluth', 'latitude': 36.167619453000015, 'longitude': -92.1251218}, {'title': 'East Wenatchee Bench', 'latitude': 45.02864902350003, 'longitude': -120.2811818}, {'title': 'Ellensburg', 'latitude': 45.57216606550004, 'longitude': -120.5451223}, {'title': 'Enid', 'latitude': 38.455278198, 'longitude': -97.8791341}, {'title': 'Ephrata', 'latitude': 40.29702451449998, 'longitude': -76.1789242}, {'title': 'Fergus Falls', 'latitude': 44.43762122000001, 'longitude': -96.077558}, {'title': 'Fremont', 'latitude': 43.08132199899999, 'longitude': -121.988571}, {'title': 'Gainesville', 'latitude': 32.454464603, 'longitude': -82.3249846}, {'title': 'Garden City', 'latitude': 40.23674780000001, 'longitude': -100.8726618}, {'title': 'Gillette', 'latitude': 42.17627979900003, 'longitude': -105.501876}, {'title': 'Glens Falls', 'latitude': 40.82992653749999, 'longitude': -73.644447}, {'title': 'Golden', 'latitude': 41.27163836949997, 'longitude': -105.2148081}, {'title': 'Great Bend', 'latitude': 37.614866913000014, 'longitude': -98.7804087}, {'title': 'Green River', 'latitude': 42.206910818000026, 'longitude': -109.466473}, {'title': 'Hilton Head Island', 'latitude': 32.54209044299999, 'longitude': -80.7512616}, {'title': 'Houston', 'latitude': 30.702257714000005, 'longitude': -95.3676974}, {'title': 'Kennewick', 'latitude': 36.04826058300001, 'longitude': -119.1199192}, {'title': 'Kenosha', 'latitude': 42.73722499700001, 'longitude': -87.8212263}, {'title': 'Kingman', 'latitude': 34.591328608999994, 'longitude': -114.0530065}, {'title': 'Lake Shore', 'latitude': 37.32904831700001, 'longitude': -94.3605573}, {'title': 'Lansing', 'latitude': 41.425239705, 'longitude': -84.5553805}, {'title': 'Laurel', 'latitude': 38.27493200000001, 'longitude': -89.13706958}, {'title': 'Lawrence', 'latitude': 40.00849443599999, 'longitude': -95.2359496}, {'title': 'Lexington', 'latitude': 36.91598807800002, 'longitude': -84.4970393}, {'title': 'Mandan', 'latitude': 46.164831928500014, 'longitude': -100.889704}, {'title': 'Mauldin', 'latitude': 38.688300593, 'longitude': -82.310119}, {'title': 'Miramar', 'latitude': 28.292808329000003, 'longitude': -80.2322706}, {'title': 'Moberly', 'latitude': 38.34746541200002, 'longitude': -92.4364298}, {'title': 'Montgomery', 'latitude': 32.799964247000005, 'longitude': -86.3006485}, {'title': 'Mustang', 'latitude': 38.176015320000005, 'longitude': -97.7244813}, {'title': 'Myrtle Beach', 'latitude': 35.19467518800002, 'longitude': -78.8900409}, {'title': 'New Albany', 'latitude': 41.30822159700003, 'longitude': -85.8241312}, {'title': 'New Iberia', 'latitude': 30.282718755999987, 'longitude': -91.8187285}, {'title': 'Norfolk', 'latitude': 37.996544626, 'longitude': -76.2602336}, {'title': 'North Shore', 'latitude': 38.511606886500026, 'longitude': -80.0078641}, {'title': 'Ottumwa', 'latitude': 41.727717644500025, 'longitude': -92.4112963}, {'title': 'Pacific Grove', 'latitude': 37.35097640999996, 'longitude': -121.9177944}, {'title': 'Pahrump', 'latitude': 34.603014581000004, 'longitude': -115.9839128}, {'title': 'Paragould', 'latitude': 36.57526223299998, 'longitude': -90.4973286}, {'title': 'Payson', 'latitude': 33.902038859000015, 'longitude': -91.2423657}, {'title': 'Portland', 'latitude': 35.84393626000003, 'longitude': -122.6741949}, {'title': 'Progress', 'latitude': 41.22518588999999, 'longitude': -121.8010799}, {'title': 'Quincy', 'latitude': 40.71112426999999, 'longitude': -71.0037374}, {'title': 'Richland', 'latitude': 36.07280904099999, 'longitude': -119.275205}, {'title': 'Richmond', 'latitude': 40.44956079149998, 'longitude': -77.43428}, {'title': 'Rockland', 'latitude': 40.5657136155, 'longitude': -69.1075562}, {'title': 'Salinas', 'latitude': 37.603221379999965, 'longitude': -121.6550372}, {'title': 'San Antonio', 'latitude': 30.11317096899997, 'longitude': -98.4951405}, {'title': 'Santa Rosa', 'latitude': 38.208802413, 'longitude': -122.7141049}, {'title': 'Sebastian', 'latitude': 29.631808680999992, 'longitude': -80.4706078}, {'title': 'Selma', 'latitude': 32.436577802, 'longitude': -87.0207473}, {'title': 'Sidney', 'latitude': 42.57114421399998, 'longitude': -104.155973}, {'title': 'Silver City', 'latitude': 33.853354731, 'longitude': -95.637226}, {'title': 'Soledad', 'latitude': 36.71732006099997, 'longitude': -121.3271861}, {'title': 'Southbridge', 'latitude': 42.038104399999966, 'longitude': -72.0304472}, {'title': 'Spring Hill', 'latitude': 30.47242294200001, 'longitude': -93.6479872}, {'title': 'St. Anthony', 'latitude': 44.00779235349999, 'longitude': -93.2187368}, {'title': 'Statesboro', 'latitude': 32.87161494, 'longitude': -81.7832912}, {'title': 'Sterling', 'latitude': 41.57209504600003, 'longitude': -89.6962194}, {'title': 'Tehachapi', 'latitude': 35.22084817499998, 'longitude': -118.4489739}, {'title': 'Tucumcari', 'latitude': 34.72994741899998, 'longitude': -103.7250405}, {'title': 'Ukiah', 'latitude': 38.050869380999984, 'longitude': -123.2077861}, {'title': 'Uvalde', 'latitude': 30.839666420999976, 'longitude': -99.7861679}, {'title': 'Vicksburg', 'latitude': 32.57822386599999, 'longitude': -90.8777342}, {'title': 'Victoria', 'latitude': 39.39646965200001, 'longitude': -123.3649533}, {'title': 'Watertown', 'latitude': 43.16340269499999, 'longitude': -71.1828321}, {'title': 'Wharton', 'latitude': 40.870186357, 'longitude': -96.0982384}, {'title': 'Winnemucca', 'latitude': 41.21956575099999, 'longitude': -117.7348184}, {'title': 'Yankton', 'latitude': 41.97261237100001, 'longitude': -97.3967011}, {'title': 'Yonkers', 'latitude': 40.731910316, 'longitude': -73.8987469}]\n"
          ]
        }
      ]
    },
    {
      "cell_type": "code",
      "source": [
        ""
      ],
      "metadata": {
        "id": "eY8NBNfiUKh6"
      },
      "execution_count": null,
      "outputs": []
    }
  ]
}